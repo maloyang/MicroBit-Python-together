{
 "cells": [
  {
   "cell_type": "markdown",
   "metadata": {
    "slideshow": {
     "slide_type": "slide"
    }
   },
   "source": [
    "# Micro:Bit-Python一起玩\n",
    "\n",
    "----\n",
    "你有玩過Micro:Bit這塊酷炫的小玩意兒嗎?\n",
    "它不只是可以使用Scratch, Javascript來控制，還可以使用MicroPython來玩喔"
   ]
  },
  {
   "cell_type": "markdown",
   "metadata": {
    "slideshow": {
     "slide_type": "skip"
    }
   },
   "source": [
    "to slide:\n",
    "\n",
    "jupyter nbconvert \"MicroBit-Python-together-4slide.ipynb\" --to slides --post serve"
   ]
  },
  {
   "cell_type": "markdown",
   "metadata": {
    "slideshow": {
     "slide_type": "slide"
    }
   },
   "source": [
    "## 自我介紹\n",
    "----\n",
    "\n",
    "Malo, KHPY義工"
   ]
  },
  {
   "cell_type": "markdown",
   "metadata": {
    "slideshow": {
     "slide_type": "slide"
    }
   },
   "source": [
    "\n",
    "# Agenda:\n",
    "----\n",
    "\n",
    "- Micro:Bit簡介 - 它可以做啥，為何這麼火紅\n",
    "- 怎麼使用Python來和小Bit互動\n",
    "- 用Micro:Bit來玩點小遊戲吧\n",
    "- 附帶一提：Scratch與Micro:Bit孩童學習程式的好玩伴\n",
    "\n"
   ]
  },
  {
   "cell_type": "markdown",
   "metadata": {
    "slideshow": {
     "slide_type": "slide"
    }
   },
   "source": [
    "# Micro:Bit簡介\n",
    "----\n",
    "\n",
    "什麼是 Micro:Bit? 來看一下網頁的說明吧!\n",
    "https://microbit.org/\n",
    "\n",
    "<img src=\"image/microbit1.jpg\" alt=\"drawing\" width=\"600\"></img>\n"
   ]
  },
  {
   "cell_type": "markdown",
   "metadata": {
    "slideshow": {
     "slide_type": "subslide"
    }
   },
   "source": [
    "<img src=\"image/microbit2.jpg\" alt=\"drawing\" width=\"600\"></img>\n"
   ]
  },
  {
   "cell_type": "markdown",
   "metadata": {
    "slideshow": {
     "slide_type": "subslide"
    }
   },
   "source": [
    "## 它有什麼介面?\n",
    "\n",
    "(新版的加速規、電子羅盤已經分開為二個chip了)\n",
    "\n",
    "<img src=\"image/microbit0.png\" width=\"660\"></img>\n"
   ]
  },
  {
   "cell_type": "markdown",
   "metadata": {
    "slideshow": {
     "slide_type": "subslide"
    }
   },
   "source": [
    "## 為何它這麼火紅呢?\n",
    "----\n",
    "\n",
    "- 整合度高\n",
    "- 線上編輯環境完整、方便\n",
    "- 可使用Scratch, JavaScript, MicroPython進行編程\n",
    "- 程式燒寫方式簡單容易：只要存檔到磁碟槽就行了\n",
    "- 周邊衍伸商品多\n",
    "(補上衍伸商品的照片)\n"
   ]
  },
  {
   "cell_type": "markdown",
   "metadata": {
    "slideshow": {
     "slide_type": "subslide"
    }
   },
   "source": [
    "## ✩以我自己接下來要和老師寫的教材大網為例：\n",
    "----\n",
    "\n",
    "一學期每周的教學課程內容\n",
    "\n",
    "- Micro:Bit介紹 / 圖案跑馬燈 / 搖骰子\n",
    "- 計數器 / 計步器\n",
    "- 指北針製作：配合紙畫羅盤\n",
    "- 溫度計\n",
    "- 多功能的小Bit：把前三周的功能整合在一起(溫度、計數、羅盤)\n",
    "----\n",
    "- 小小音樂家：編曲活動 (配合耳機、喇叭)\n",
    "- 溫度警報器 / 讓小Bit開口說：好熱\n",
    "- 刷油漆遊戲 (使用按鈕)\n",
    "- 刷油漆遊戲2 (使用加速規)\n",
    "- 猜數字對決遊戲 (二片無線傳輸功能)\n",
    "----\n",
    "- 猴子接香蕉遊戲\n",
    "- 找個洞來鑽 遊戲\n",
    "- Bit桌球遊戲 (無線對打)\n",
    "- 揮棒吧! (接Serve打球)\n",
    "\n",
    "----\n",
    "參考影片：\n",
    "- [飛鳥闖關](https://www.youtube.com/watch?v=MO-2DiHDZvg)\n",
    "- [垂直版](https://www.youtube.com/watch?v=m5vFKOAFOIw&t=4s)\n",
    "- [老宅男的自high遊戲](https://www.youtube.com/watch?v=QzWSRXqQBeQ)"
   ]
  },
  {
   "cell_type": "markdown",
   "metadata": {
    "slideshow": {
     "slide_type": "slide"
    }
   },
   "source": [
    "## 使用MicroPython和小Bit互動\n",
    "----\n",
    "\n",
    "廢話少說，[直接上線上編輯器試試吧!](https://python.microbit.org/v/1.1)\n",
    "\n",
    "![python editor](https://microbit.org/images/python-editor.png)"
   ]
  },
  {
   "cell_type": "markdown",
   "metadata": {
    "slideshow": {
     "slide_type": "slide"
    }
   },
   "source": [
    "- MicroPython1: 圖案跑馬燈 / 搖骰子"
   ]
  },
  {
   "cell_type": "code",
   "execution_count": null,
   "metadata": {
    "slideshow": {
     "slide_type": "subslide"
    }
   },
   "outputs": [],
   "source": [
    "from microbit import *\n",
    "\n",
    "while(True):\n",
    "    display.show(Image.HAPPY)\n",
    "    sleep(2000)\n",
    "    display.show(Image.COW)\n",
    "    sleep(2000)\n",
    "    display.show(Image.SAD)\n",
    "\n",
    "    sleep(2000)\n",
    "    display.show(Image( '11110:'\n",
    "                        '00000:'\n",
    "                        '13579:'\n",
    "                        '00000:'\n",
    "                        '99999'))\n",
    "\n",
    "    sleep(5000)"
   ]
  },
  {
   "cell_type": "code",
   "execution_count": null,
   "metadata": {
    "slideshow": {
     "slide_type": "skip"
    }
   },
   "outputs": [],
   "source": [
    "(補上搖骰子程式，因Python版的shake功能不太靈光，所以後續可能需要寫一個自己的版本會比較好)"
   ]
  },
  {
   "cell_type": "markdown",
   "metadata": {
    "slideshow": {
     "slide_type": "slide"
    }
   },
   "source": [
    "- MicroPython2: 計數器 / 計步器"
   ]
  },
  {
   "cell_type": "code",
   "execution_count": null,
   "metadata": {
    "slideshow": {
     "slide_type": "subslide"
    }
   },
   "outputs": [],
   "source": [
    "from microbit import *\n",
    "import random\n",
    "\n",
    "n = 0\n",
    "display.show(n)\n",
    "\n",
    "while(True):\n",
    "    if button_a.is_pressed():\n",
    "        n=n+1\n",
    "        display.scroll(n)\n"
   ]
  },
  {
   "cell_type": "code",
   "execution_count": null,
   "metadata": {
    "slideshow": {
     "slide_type": "subslide"
    }
   },
   "outputs": [],
   "source": [
    "from microbit import *\n",
    "import random\n",
    "\n",
    "n = 0\n",
    "display.show(n)\n",
    "\n",
    "while(True):\n",
    "    if accelerometer.is_gesture('shake'):\n",
    "        n=n+1\n",
    "        display.scroll(n)\n",
    "    sleep(100)"
   ]
  },
  {
   "cell_type": "markdown",
   "metadata": {
    "slideshow": {
     "slide_type": "slide"
    }
   },
   "source": [
    "- MicroPython3: 小小音樂家 (Hack your Earphone)"
   ]
  },
  {
   "cell_type": "code",
   "execution_count": null,
   "metadata": {
    "slideshow": {
     "slide_type": "subslide"
    }
   },
   "outputs": [],
   "source": [
    "from microbit import *\n",
    "import music\n",
    "\n",
    "while(True):\n",
    "    music.play(music.BADDY)\n",
    "    sleep(1000)\n",
    "    music.play(music.BIRTHDAY)\n",
    "    sleep(1000)\n",
    "    music.play(music.WEDDING)"
   ]
  },
  {
   "cell_type": "code",
   "execution_count": null,
   "metadata": {
    "slideshow": {
     "slide_type": "subslide"
    }
   },
   "outputs": [],
   "source": [
    "from microbit import *\n",
    "import music\n",
    "\n",
    "while(True):\n",
    "    tune = ['C4:4', 'C4:4', 'G4:4', 'G4:4', 'A4:4', 'A4:4', 'G4:8',\n",
    "            'F4:4', 'F4:4', 'E4:4', 'E4:4', 'D4:4', 'D4:4', 'C4:8']\n",
    "    music.play(tune)\n",
    "    sleep(1000)"
   ]
  },
  {
   "cell_type": "code",
   "execution_count": null,
   "metadata": {
    "slideshow": {
     "slide_type": "subslide"
    }
   },
   "outputs": [],
   "source": [
    "from microbit import *\n",
    "import speech\n",
    "\n",
    "while(True):\n",
    "    speech.say('Nice to meet you')\n",
    "    speech.say('we will we will rock you!')\n",
    "    sleep(1000)\n",
    "    speech.say('comma test!')\n",
    "    sleep(500)\n",
    "    speech.say('we will, we will, rock you!')\n",
    "    speech.say('we will. we will. rock you!')"
   ]
  },
  {
   "cell_type": "markdown",
   "metadata": {
    "slideshow": {
     "slide_type": "slide"
    }
   },
   "source": [
    "- MicroPython4: 溫度警報器"
   ]
  },
  {
   "cell_type": "code",
   "execution_count": null,
   "metadata": {
    "slideshow": {
     "slide_type": "subslide"
    }
   },
   "outputs": [],
   "source": [
    "from microbit import *\n",
    "import speech\n",
    "\n",
    "while(True):\n",
    "    T = temperature()\n",
    "    display.scroll(str(T))\n",
    "    \n",
    "    speech.say('temperature report, temperature report: %s Celcius' %(T))\n",
    "    \n",
    "    if(T>26):\n",
    "        speech.say('Wow! so hot')\n",
    "        \n",
    "    if(T<16):\n",
    "        speech.say(\"Wow! it's cold!\")"
   ]
  },
  {
   "cell_type": "code",
   "execution_count": null,
   "metadata": {
    "slideshow": {
     "slide_type": "subslide"
    }
   },
   "outputs": [],
   "source": [
    "from microbit import *\n",
    "import speech\n",
    "\n",
    "while(True):\n",
    "    T = temperature()\n",
    "    display.scroll(str(T))\n",
    "    \n",
    "    #隨溫度改變色溫 藍-->紅"
   ]
  },
  {
   "cell_type": "markdown",
   "metadata": {
    "slideshow": {
     "slide_type": "skip"
    }
   },
   "source": [
    "- MicroPython5: 猴子接香蕉\n",
    "(進行中)"
   ]
  },
  {
   "cell_type": "markdown",
   "metadata": {
    "slideshow": {
     "slide_type": "skip"
    }
   },
   "source": [
    "- MicroPython6: Bit桌球賽\n",
    "(進行中)"
   ]
  },
  {
   "cell_type": "markdown",
   "metadata": {
    "slideshow": {
     "slide_type": "slide"
    }
   },
   "source": [
    "## 我只能線上寫程式嗎? \n",
    "\n",
    "當然不是，但它確實很方便!\n",
    "\n",
    "### 離線使用Python：\n",
    "\n",
    "- [MU Python Editor](https://codewith.mu/)\n",
    "    - 提供：Windows, Mac, Linux, Raspberry Pi的版本\n",
    "    ![mu](https://codewith.mu/img/en/mu.gif)\n",
    "    "
   ]
  },
  {
   "cell_type": "markdown",
   "metadata": {
    "slideshow": {
     "slide_type": "subslide"
    }
   },
   "source": [
    "### 離線使用Scratch：\n",
    "\n",
    "- [Scratch X](https://scratchx.org/)：聽說只有mac版\n",
    "\n",
    "- [Scratch2](https://scratch.mit.edu/)：需要加上外掛才能配合Micro:bit\n"
   ]
  },
  {
   "cell_type": "markdown",
   "metadata": {
    "slideshow": {
     "slide_type": "slide"
    }
   },
   "source": [
    "\n",
    "## 來玩點小遊戲吧!\n",
    "----\n",
    "- [猴子接香蕉](https://makecode.microbit.org/_P3uWrR0hEebm)"
   ]
  },
  {
   "cell_type": "markdown",
   "metadata": {
    "slideshow": {
     "slide_type": "slide"
    }
   },
   "source": [
    "\n",
    "## Scratch + Micro:Bit = 孩童(全齡學人)學習程式的好玩伴\n",
    "\n",
    "----\n",
    "[makecoe](https://makecode.microbit.org/#)"
   ]
  },
  {
   "cell_type": "markdown",
   "metadata": {
    "slideshow": {
     "slide_type": "slide"
    }
   },
   "source": [
    "## 如何用Scratch來玩Micro:Bit\n",
    "----\n",
    "(加入連結分享)\n",
    "\n",
    "- 圖案跑馬燈\n",
    "- 搖骰子\n",
    "- 溫度計"
   ]
  },
  {
   "cell_type": "markdown",
   "metadata": {
    "slideshow": {
     "slide_type": "slide"
    }
   },
   "source": [
    "----\n",
    "\n",
    "# The End~\n",
    "----"
   ]
  }
 ],
 "metadata": {
  "celltoolbar": "Slideshow",
  "kernelspec": {
   "display_name": "Python 3",
   "language": "python",
   "name": "python3"
  },
  "language_info": {
   "codemirror_mode": {
    "name": "ipython",
    "version": 3
   },
   "file_extension": ".py",
   "mimetype": "text/x-python",
   "name": "python",
   "nbconvert_exporter": "python",
   "pygments_lexer": "ipython3",
   "version": "3.7.0"
  }
 },
 "nbformat": 4,
 "nbformat_minor": 2
}
